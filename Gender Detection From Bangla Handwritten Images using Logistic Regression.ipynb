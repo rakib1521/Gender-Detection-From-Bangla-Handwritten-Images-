{
  "nbformat": 4,
  "nbformat_minor": 0,
  "metadata": {
    "colab": {
      "name": "160204099_SC_Problem 2.ipynb",
      "provenance": [],
      "collapsed_sections": []
    },
    "kernelspec": {
      "name": "python3",
      "display_name": "Python 3"
    },
    "accelerator": "GPU"
  },
  "cells": [
    {
      "cell_type": "markdown",
      "metadata": {
        "id": "1TAb1RyLITwX"
      },
      "source": [
        "#**Problem 2 Male and Female Handwriting Digit**\r\n",
        " \r\n",
        "Handwriting is a unique quality of human being, every person has unique handwriting that is very hard to copy but there can be some similarities\r\n",
        "Between male and female handwriting. we will classify the difference between Male and Female Handwritting Digit using logistic regression.\r\n",
        " \r\n",
        "Differences between Male and Female Handwriting Digit can be used in various applications like Archeology, forensic department. In this assignment, our main goal will be to achieve a good result using logistic regression and tuning hyperparameters correctly to get a better result.\r\n",
        " \r\n",
        " \r\n",
        " \r\n",
        " \r\n",
        " \r\n",
        "#**Dataset**\r\n",
        " \r\n",
        " \r\n",
        "> For this experiment, we will use the dataset [Ekush](https://shahariarrabby.github.io/ekush/#download) which is available in **Github**. \r\n",
        "There will be a total of **30830** images, and it was split in a **90:10** ratio. **90%** (**27747**) of data is used in training and **10%** (**3083**) was used in testing.Whole dataset was shuffled before spliting , so that traning and testing dataset can have both label data. \r\n",
        " \r\n",
        "**Snapshot from Dataset**\r\n",
        "\r\n",
        "><div align=\"center\">\r\n",
        "<img src=\"https://drive.google.com/uc?id=1GhuJfYchOjfNoBtwkpWivPRQinegMYwy\" width=\"600\">\r\n",
        "</div>\r\n",
        " \r\n",
        " \r\n",
        "#**Experimental Setup**\r\n",
        " \r\n",
        " \r\n",
        "> All of these experiments were performed using Google Colab free GPU, Models were created in PyTorch. \r\n",
        " \r\n",
        " \r\n",
        "During the whole experiment,\r\n",
        "* The height and width of the input was **28*28 =784** \r\n",
        "* Output dimension was **(0,1)=2**\r\n",
        "* Each batch size was **256**\r\n",
        "* The number of iteration was **4000**\r\n",
        "* **Softmax** activation function was used \r\n",
        "* GPU **Tesla T4** was available \r\n",
        "* Number of Epochs **332**\r\n",
        " \r\n",
        "- **totaldata:** 30830\r\n",
        " \r\n",
        " \r\n",
        " \r\n",
        " \r\n",
        "> - **minibatch:** 256\r\n",
        "- **iterations:** 4,000\r\n",
        "- **epochs**\r\n",
        "  - $epochs = iterations \\div \\frac{totaldata}{minibatch} = 4000 \\div \\frac{30830}{256} = 332.14 == 332 $\r\n",
        " \r\n",
        "We will use different optimizer(SGD and Adam) and learning rate to achieve better performance\r\n",
        " \r\n",
        "# **Result**\r\n",
        " \r\n",
        " \r\n",
        "| Experiment Number      | Optimizer     | Learning Rate    | | Accurecy of last 500 iterations    |\r\n",
        "| :------------- | :----------: | :-----------: || :-----------: |\r\n",
        "|  1 |SGD   | 0.0001    ||51.41 |\r\n",
        "|  2 |SGD   | 0.0005    ||  50.02 |\r\n",
        "| 3   | SGD | 0.0010 || 49.92 |\r\n",
        "|  4 |Adam   | 0.0001    ||51.05 |\r\n",
        "|  5 |Adam  | 0.02   || 50.86 |\r\n",
        "|  6 |Adam   | 0.05    || 48.3 | |\r\n",
        " \r\n",
        " \r\n",
        "From the result, it is can be said that when **SGD** optimizer is used for the first setup accuracy was **51.41** and loss was **increasing**, and when we set the learning rate 0.0005 accuracy was **50.02** which was less than the last setup, and then when the learning rate was increased to **0.0010** accuracy decreased to **49.92** and loss graph was **decreasing**, so it can be assume that optimal learning rate for this setup is between **0.0001-0.0005**.\r\n",
        " \r\n",
        " \r\n",
        "And when **Adam** optimizer is used for the first setup accuracy was **51.05** and loss was **increasing in the last 500 iterations**, and when we set the learning rate **0.02** accuracy was **50.86** which was better than the last setup, and then when the learning rate was increased to **0.05** accuracy decreased to **48.3** and loss graph was increasing **in last 500 iterations**, so it can be assume that optimal learning rate for this setup is between **0.0001-0.02**.\r\n",
        "\r\n",
        "\r\n",
        "\r\n",
        "\r\n",
        " \r\n",
        " \r\n"
      ]
    },
    {
      "cell_type": "markdown",
      "metadata": {
        "id": "4gxns8PIZakG"
      },
      "source": [
        "**Importing All Important Library**"
      ]
    },
    {
      "cell_type": "code",
      "metadata": {
        "colab": {
          "base_uri": "https://localhost:8080/"
        },
        "id": "8fKb5x6UbBVY",
        "outputId": "8f78ac1c-8ae3-4c4d-e7ec-753c82315f62"
      },
      "source": [
        "import torch\r\n",
        "import torch.nn as nn\r\n",
        "import torch.nn.functional as F\r\n",
        "import torchvision\r\n",
        "import torchvision.transforms as transforms\r\n",
        "import pandas as pd \r\n",
        "import numpy as np\r\n",
        "import matplotlib.pyplot as plt \r\n",
        "from sklearn.model_selection import train_test_split\r\n",
        "from google.colab import drive\r\n",
        "from sklearn.utils import shuffle\r\n",
        "drive.mount('/drive')\r\n",
        "print(torch.cuda.get_device_name())\r\n"
      ],
      "execution_count": null,
      "outputs": [
        {
          "output_type": "stream",
          "text": [
            "Mounted at /drive\n",
            "Tesla T4\n"
          ],
          "name": "stdout"
        }
      ]
    },
    {
      "cell_type": "markdown",
      "metadata": {
        "id": "vW9huJK_adv9"
      },
      "source": [
        "**Reading CSV**"
      ]
    },
    {
      "cell_type": "code",
      "metadata": {
        "id": "75q9YEJ2cKiQ"
      },
      "source": [
        "female_df=pd.read_csv(\"/drive/MyDrive/MaleFemaleDatsetCsv/femaleDigits.csv\")\r\n",
        "male_df=pd.read_csv(\"/drive/MyDrive/MaleFemaleDatsetCsv/maleDigits.csv\")"
      ],
      "execution_count": null,
      "outputs": []
    },
    {
      "cell_type": "markdown",
      "metadata": {
        "id": "DJPo468KBYNP"
      },
      "source": [
        "**setting label 1 for female and 0 for male**"
      ]
    },
    {
      "cell_type": "code",
      "metadata": {
        "id": "96UJP4GmcjLN"
      },
      "source": [
        "female_df['label']=1\r\n",
        "male_df['label']=0"
      ],
      "execution_count": null,
      "outputs": []
    },
    {
      "cell_type": "markdown",
      "metadata": {
        "id": "-7Xbmr88-76P"
      },
      "source": [
        "**Merging, Normalize and Reshaping  CSV**"
      ]
    },
    {
      "cell_type": "code",
      "metadata": {
        "colab": {
          "base_uri": "https://localhost:8080/"
        },
        "id": "22HnvcGnebFV",
        "outputId": "ab36b439-4128-414e-c33c-329c470733ca"
      },
      "source": [
        "df_name=[female_df,male_df]\r\n",
        "dataset_image=pd.concat(df_name,ignore_index=True)\r\n",
        "dataset_image= shuffle(dataset_image)\r\n",
        "dataset_label=dataset_image['label']\r\n",
        "print(dataset_image.shape)\r\n",
        "dataset_image=dataset_image.drop(labels='label',axis=1)\r\n",
        "print(dataset_image.shape)\r\n",
        "dataset_image=dataset_image/255.0\r\n",
        "dataset_image=dataset_image.values.reshape(-1,28,28,1)\r\n",
        "print(dataset_image.shape)"
      ],
      "execution_count": null,
      "outputs": [
        {
          "output_type": "stream",
          "text": [
            "(30830, 785)\n",
            "(30830, 784)\n",
            "(30830, 28, 28, 1)\n"
          ],
          "name": "stdout"
        }
      ]
    },
    {
      "cell_type": "markdown",
      "metadata": {
        "id": "JOuuB6W9azKd"
      },
      "source": [
        "**Displaying Image and Label**"
      ]
    },
    {
      "cell_type": "code",
      "metadata": {
        "colab": {
          "base_uri": "https://localhost:8080/",
          "height": 282
        },
        "id": "jeSRUqB6fBt9",
        "outputId": "5a2eeac5-3c60-483e-98ad-a7ada26ec4ae"
      },
      "source": [
        "import matplotlib.pyplot as plt \r\n",
        "import numpy as np\r\n",
        "\r\n",
        "show_img = dataset_image[0].reshape(28, 28)\r\n",
        "plt.imshow(show_img, cmap='gray')\r\n",
        "print(dataset_label[0])"
      ],
      "execution_count": null,
      "outputs": [
        {
          "output_type": "stream",
          "text": [
            "1\n"
          ],
          "name": "stdout"
        },
        {
          "output_type": "display_data",
          "data": {
            "image/png": "[encoded data removed]",
            "text/plain": [
              "<Figure size 432x288 with 1 Axes>"
            ]
          },
          "metadata": {
            "tags": [],
            "needs_background": "light"
          }
        }
      ]
    },
    {
      "cell_type": "markdown",
      "metadata": {
        "id": "IDvFaRHc_SVQ"
      },
      "source": [
        "**Train and Test Data Split**"
      ]
    },
    {
      "cell_type": "code",
      "metadata": {
        "colab": {
          "base_uri": "https://localhost:8080/"
        },
        "id": "R02ThzBvfFGd",
        "outputId": "396646e9-0422-4262-cd1d-574ae3fb6503"
      },
      "source": [
        "train_image, test_image,train_label,test_label = train_test_split(dataset_image, dataset_label, test_size=0.1)\r\n",
        "print(len(train_image))\r\n",
        "print(len(train_label))\r\n",
        "print(len(test_image))\r\n",
        "print(len(test_label))"
      ],
      "execution_count": null,
      "outputs": [
        {
          "output_type": "stream",
          "text": [
            "27747\n",
            "27747\n",
            "3083\n",
            "3083\n"
          ],
          "name": "stdout"
        }
      ]
    },
    {
      "cell_type": "markdown",
      "metadata": {
        "id": "81Dt50rj_bNQ"
      },
      "source": [
        "**Ziping Train, Test Data and Label**"
      ]
    },
    {
      "cell_type": "code",
      "metadata": {
        "id": "biE0zczh2bwm"
      },
      "source": [
        "train_dataset = list(zip(test_image,train_label))\r\n",
        "test_dataset = list(zip(test_image,test_label))"
      ],
      "execution_count": null,
      "outputs": []
    },
    {
      "cell_type": "markdown",
      "metadata": {
        "id": "N2Ml3daBhvJz"
      },
      "source": [
        "#**Experiment 1:**\r\n",
        "* **Optimizer =SGD**\r\n",
        "* **Learning rate =0.0001**\r\n"
      ]
    },
    {
      "cell_type": "markdown",
      "metadata": {
        "id": "bQZGJgRoa9Cj"
      },
      "source": [
        "**Hyperparameters**"
      ]
    },
    {
      "cell_type": "code",
      "metadata": {
        "id": "au6LGW_p26LG"
      },
      "source": [
        "#HYPERPERAMETERS\r\n",
        "batch_size = 256\r\n",
        "num_iters = 4000\r\n",
        "input_dim = 28*28 # num_features = 784\r\n",
        "output_dim = 2\r\n",
        "\r\n",
        "learning_rate = 0.0001\r\n",
        "\r\n",
        "# Device\r\n",
        "device = torch.device(\"cuda:0\" if torch.cuda.is_available() else \"cpu\")"
      ],
      "execution_count": null,
      "outputs": []
    },
    {
      "cell_type": "markdown",
      "metadata": {
        "id": "k143yc3Y_u_q"
      },
      "source": [
        "**MAKING DATASET ITERABLE**"
      ]
    },
    {
      "cell_type": "code",
      "metadata": {
        "id": "ajD_p9JB2_pC"
      },
      "source": [
        "'''\r\n",
        "MAKING DATASET ITERABLE\r\n",
        "'''\r\n",
        "num_epochs = num_iters / (len(train_dataset) / batch_size)\r\n",
        "num_epochs = int(num_epochs)\r\n",
        "\r\n",
        "train_loader = torch.utils.data.DataLoader(dataset=train_dataset, \r\n",
        "                                           batch_size=batch_size, \r\n",
        "                                           shuffle=True)  \r\n",
        "\r\n",
        "test_loader = torch.utils.data.DataLoader(dataset=test_dataset, \r\n",
        "                                          batch_size=batch_size, \r\n",
        "                                          shuffle=False) "
      ],
      "execution_count": null,
      "outputs": []
    },
    {
      "cell_type": "markdown",
      "metadata": {
        "id": "IlAk0YEbbAeb"
      },
      "source": [
        "**Logistic Regression Model**"
      ]
    },
    {
      "cell_type": "code",
      "metadata": {
        "id": "X7bpnzHU3B2X"
      },
      "source": [
        "class LogisticRegressionModel(nn.Module):\r\n",
        "    def __init__(self, input_size, num_classes):\r\n",
        "        super().__init__()\r\n",
        "        self.linear = nn.Linear(input_size, num_classes)\r\n",
        "\r\n",
        "    def forward(self, x):\r\n",
        "        logits  = self.linear(x)\r\n",
        "        probas = F.softmax(logits, dim=1)\r\n",
        "        return logits, probas"
      ],
      "execution_count": null,
      "outputs": []
    },
    {
      "cell_type": "markdown",
      "metadata": {
        "id": "ohbCJNV9bGG_"
      },
      "source": [
        "**INSTANTIATE MODEL CLASS**"
      ]
    },
    {
      "cell_type": "code",
      "metadata": {
        "colab": {
          "base_uri": "https://localhost:8080/"
        },
        "id": "hGX5dHZk3DUG",
        "outputId": "389701f0-92f4-4438-bfa0-9365034ea569"
      },
      "source": [
        "'''\r\n",
        "INSTANTIATE MODEL CLASS\r\n",
        "'''\r\n",
        "model = LogisticRegressionModel(input_size=input_dim,\r\n",
        "                                num_classes=output_dim)\r\n",
        "# To enable GPU\r\n",
        "model.to(device)"
      ],
      "execution_count": null,
      "outputs": [
        {
          "output_type": "execute_result",
          "data": {
            "text/plain": [
              "LogisticRegressionModel(\n",
              "  (linear): Linear(in_features=784, out_features=2, bias=True)\n",
              ")"
            ]
          },
          "metadata": {
            "tags": []
          },
          "execution_count": 11
        }
      ]
    },
    {
      "cell_type": "markdown",
      "metadata": {
        "id": "3CVt4G9xbIvX"
      },
      "source": [
        "**Optimizer setup**"
      ]
    },
    {
      "cell_type": "code",
      "metadata": {
        "id": "Nz--RXQV3FUK"
      },
      "source": [
        "# INSTANTIATE OPTIMIZER CLASS\r\n",
        "optimizer = torch.optim.SGD(model.parameters(), lr=learning_rate)\r\n"
      ],
      "execution_count": null,
      "outputs": []
    },
    {
      "cell_type": "markdown",
      "metadata": {
        "id": "forTL2I6bP5p"
      },
      "source": [
        "**Function TRAIN THE MODEL**"
      ]
    },
    {
      "cell_type": "code",
      "metadata": {
        "colab": {
          "base_uri": "https://localhost:8080/"
        },
        "id": "z9v5p_eY3HHb",
        "outputId": "9a76a288-f197-4c68-9e84-d4ba3e78c637"
      },
      "source": [
        "'''\r\n",
        "TRAIN THE MODEL\r\n",
        "'''\r\n",
        "iteration_loss = []\r\n",
        "iter = 0\r\n",
        "for epoch in range(num_epochs):\r\n",
        "    for i, (images, labels) in enumerate(train_loader):\r\n",
        "\r\n",
        "        \r\n",
        "        images = images.view(-1, 28*28).to(device)\r\n",
        "        labels = labels.to(device)\r\n",
        "\r\n",
        "        # Clear gradients w.r.t. parameters\r\n",
        "        optimizer.zero_grad()\r\n",
        "\r\n",
        "        # Forward pass to get output/logits\r\n",
        "        logits, probas = model(images.float()) \r\n",
        "\r\n",
        "        # Calculate Loss: PyTorch implementation of CrossEntropyLoss works with logits, not probabilities\r\n",
        "        loss = F.cross_entropy(logits, labels)\r\n",
        "\r\n",
        "        # Getting gradients w.r.t. parameters\r\n",
        "        loss.backward()\r\n",
        "\r\n",
        "        # Updating parameters\r\n",
        "        optimizer.step()\r\n",
        "\r\n",
        "        iter += 1\r\n",
        "\r\n",
        "        if iter % 500 == 0:\r\n",
        "            # Calculate Accuracy         \r\n",
        "            correct = 0\r\n",
        "            total = 0\r\n",
        "            # Iterate through test dataset\r\n",
        "            for images, labels in test_loader:\r\n",
        "               \r\n",
        "                images = images.view(-1, 28*28).to(device)\r\n",
        "\r\n",
        "                # Forward pass only to get logits/output\r\n",
        "                logits, probas = model(images.float())\r\n",
        "\r\n",
        "                # Get predictions from the maximum value\r\n",
        "                _, predicted = torch.max(probas, 1)\r\n",
        "\r\n",
        "                # Total number of labels\r\n",
        "                total += labels.size(0)\r\n",
        "\r\n",
        "\r\n",
        "                # Total correct predictions\r\n",
        "                if torch.cuda.is_available():\r\n",
        "                    correct += (predicted.cpu() == labels.cpu()).sum() \r\n",
        "                else:\r\n",
        "                    correct += (predicted == labels).sum()\r\n",
        "\r\n",
        "            accuracy = 100 * correct.item() / total\r\n",
        "\r\n",
        "            # Print Loss\r\n",
        "            iteration_loss.append(loss.item())\r\n",
        "            print('Iteration: {}. Loss: {}. Accuracy: {}'.format(iter, loss.item(), round(accuracy, 2)))"
      ],
      "execution_count": null,
      "outputs": [
        {
          "output_type": "stream",
          "text": [
            "Iteration: 500. Loss: 0.6908424496650696. Accuracy: 51.99\n",
            "Iteration: 1000. Loss: 0.6893777251243591. Accuracy: 52.09\n",
            "Iteration: 1500. Loss: 0.683989942073822. Accuracy: 51.83\n",
            "Iteration: 2000. Loss: 0.6994321346282959. Accuracy: 52.19\n",
            "Iteration: 2500. Loss: 0.6977075338363647. Accuracy: 52.03\n",
            "Iteration: 3000. Loss: 0.6857379674911499. Accuracy: 51.51\n",
            "Iteration: 3500. Loss: 0.6856712102890015. Accuracy: 51.48\n",
            "Iteration: 4000. Loss: 0.6950100660324097. Accuracy: 51.41\n"
          ],
          "name": "stdout"
        }
      ]
    },
    {
      "cell_type": "markdown",
      "metadata": {
        "id": "u_wK660SbXcW"
      },
      "source": [
        "**Loss show**"
      ]
    },
    {
      "cell_type": "code",
      "metadata": {
        "colab": {
          "base_uri": "https://localhost:8080/",
          "height": 298
        },
        "id": "Nn4CJKSp3MuX",
        "outputId": "76f8a8e1-d4dc-42d1-db75-128656aa75d9"
      },
      "source": [
        "import matplotlib\r\n",
        "import matplotlib.pyplot as plt\r\n",
        "\r\n",
        "print (iteration_loss)\r\n",
        "plt.plot(iteration_loss)\r\n",
        "plt.ylabel('Cross Entropy Loss')\r\n",
        "plt.xlabel('Iteration (in every 500)')\r\n",
        "plt.show()"
      ],
      "execution_count": null,
      "outputs": [
        {
          "output_type": "stream",
          "text": [
            "[0.6908424496650696, 0.6893777251243591, 0.683989942073822, 0.6994321346282959, 0.6977075338363647, 0.6857379674911499, 0.6856712102890015, 0.6950100660324097]\n"
          ],
          "name": "stdout"
        },
        {
          "output_type": "display_data",
          "data": {
            "image/png": "[encoded data removed]",
            "text/plain": [
              "<Figure size 432x288 with 1 Axes>"
            ]
          },
          "metadata": {
            "tags": [],
            "needs_background": "light"
          }
        }
      ]
    },
    {
      "cell_type": "markdown",
      "metadata": {
        "id": "P0H0e17lAobv"
      },
      "source": [
        "#**Experiment 2:**\r\n",
        "* **Optimizer =SGD**\r\n",
        "* **Learning rate =0.0005**\r\n"
      ]
    },
    {
      "cell_type": "markdown",
      "metadata": {
        "id": "xKh3qO7JAoby"
      },
      "source": [
        "**Hyperparameters**"
      ]
    },
    {
      "cell_type": "code",
      "metadata": {
        "id": "CWFKvak0Aobz"
      },
      "source": [
        "#HYPERPERAMETERS\r\n",
        "batch_size = 256\r\n",
        "num_iters = 4000\r\n",
        "input_dim = 28*28 # num_features = 784\r\n",
        "output_dim = 2\r\n",
        "\r\n",
        "learning_rate = 0.0005\r\n",
        "\r\n",
        "# Device\r\n",
        "device = torch.device(\"cuda:0\" if torch.cuda.is_available() else \"cpu\")"
      ],
      "execution_count": null,
      "outputs": []
    },
    {
      "cell_type": "markdown",
      "metadata": {
        "id": "xNgAmVXZAobz"
      },
      "source": [
        "**MAKING DATASET ITERABLE**"
      ]
    },
    {
      "cell_type": "code",
      "metadata": {
        "id": "iQcPBDg8Aobz"
      },
      "source": [
        "'''\r\n",
        "MAKING DATASET ITERABLE\r\n",
        "'''\r\n",
        "num_epochs = num_iters / (len(train_dataset) / batch_size)\r\n",
        "num_epochs = int(num_epochs)\r\n",
        "\r\n",
        "train_loader = torch.utils.data.DataLoader(dataset=train_dataset, \r\n",
        "                                           batch_size=batch_size, \r\n",
        "                                           shuffle=True)  \r\n",
        "\r\n",
        "test_loader = torch.utils.data.DataLoader(dataset=test_dataset, \r\n",
        "                                          batch_size=batch_size, \r\n",
        "                                          shuffle=False) "
      ],
      "execution_count": null,
      "outputs": []
    },
    {
      "cell_type": "markdown",
      "metadata": {
        "id": "CwBUnEfkAob0"
      },
      "source": [
        "**Logistic Regression Model**"
      ]
    },
    {
      "cell_type": "code",
      "metadata": {
        "id": "lB5XdEHXAob0"
      },
      "source": [
        "class LogisticRegressionModel(nn.Module):\r\n",
        "    def __init__(self, input_size, num_classes):\r\n",
        "        super().__init__()\r\n",
        "        self.linear = nn.Linear(input_size, num_classes)\r\n",
        "\r\n",
        "    def forward(self, x):\r\n",
        "        logits  = self.linear(x)\r\n",
        "        probas = F.softmax(logits, dim=1)\r\n",
        "        return logits, probas"
      ],
      "execution_count": null,
      "outputs": []
    },
    {
      "cell_type": "markdown",
      "metadata": {
        "id": "rst_MVqMAob0"
      },
      "source": [
        "**INSTANTIATE MODEL CLASS**"
      ]
    },
    {
      "cell_type": "code",
      "metadata": {
        "colab": {
          "base_uri": "https://localhost:8080/"
        },
        "id": "k-awaiOTAob1",
        "outputId": "592df4e3-e826-4c13-d028-fe34680277d9"
      },
      "source": [
        "'''\r\n",
        "INSTANTIATE MODEL CLASS\r\n",
        "'''\r\n",
        "model = LogisticRegressionModel(input_size=input_dim,\r\n",
        "                                num_classes=output_dim)\r\n",
        "# To enable GPU\r\n",
        "model.to(device)"
      ],
      "execution_count": null,
      "outputs": [
        {
          "output_type": "execute_result",
          "data": {
            "text/plain": [
              "LogisticRegressionModel(\n",
              "  (linear): Linear(in_features=784, out_features=2, bias=True)\n",
              ")"
            ]
          },
          "metadata": {
            "tags": []
          },
          "execution_count": 18
        }
      ]
    },
    {
      "cell_type": "markdown",
      "metadata": {
        "id": "q6RrHHPnAob3"
      },
      "source": [
        "**Optimizer setup**"
      ]
    },
    {
      "cell_type": "code",
      "metadata": {
        "id": "M0qY5wODAob3"
      },
      "source": [
        "# INSTANTIATE OPTIMIZER CLASS\r\n",
        "optimizer = torch.optim.SGD(model.parameters(), lr=learning_rate)\r\n"
      ],
      "execution_count": null,
      "outputs": []
    },
    {
      "cell_type": "markdown",
      "metadata": {
        "id": "QfsQziAlAob3"
      },
      "source": [
        "**Function TRAIN THE MODEL**"
      ]
    },
    {
      "cell_type": "code",
      "metadata": {
        "colab": {
          "base_uri": "https://localhost:8080/"
        },
        "id": "3B-YHGS3Aob3",
        "outputId": "12f1be9d-f0ab-4d1f-d10e-67a3242494af"
      },
      "source": [
        "'''\r\n",
        "TRAIN THE MODEL\r\n",
        "'''\r\n",
        "iteration_loss = []\r\n",
        "iter = 0\r\n",
        "for epoch in range(num_epochs):\r\n",
        "    for i, (images, labels) in enumerate(train_loader):\r\n",
        "\r\n",
        "        \r\n",
        "        images = images.view(-1, 28*28).to(device)\r\n",
        "        labels = labels.to(device)\r\n",
        "\r\n",
        "        # Clear gradients w.r.t. parameters\r\n",
        "        optimizer.zero_grad()\r\n",
        "\r\n",
        "        # Forward pass to get output/logits\r\n",
        "        logits, probas = model(images.float()) \r\n",
        "\r\n",
        "        # Calculate Loss: PyTorch implementation of CrossEntropyLoss works with logits, not probabilities\r\n",
        "        loss = F.cross_entropy(logits, labels)\r\n",
        "\r\n",
        "        # Getting gradients w.r.t. parameters\r\n",
        "        loss.backward()\r\n",
        "\r\n",
        "        # Updating parameters\r\n",
        "        optimizer.step()\r\n",
        "\r\n",
        "        iter += 1\r\n",
        "\r\n",
        "        if iter % 500 == 0:\r\n",
        "            # Calculate Accuracy         \r\n",
        "            correct = 0\r\n",
        "            total = 0\r\n",
        "            # Iterate through test dataset\r\n",
        "            for images, labels in test_loader:\r\n",
        "               \r\n",
        "                images = images.view(-1, 28*28).to(device)\r\n",
        "\r\n",
        "                # Forward pass only to get logits/output\r\n",
        "                logits, probas = model(images.float())\r\n",
        "\r\n",
        "                # Get predictions from the maximum value\r\n",
        "                _, predicted = torch.max(probas, 1)\r\n",
        "\r\n",
        "                # Total number of labels\r\n",
        "                total += labels.size(0)\r\n",
        "\r\n",
        "\r\n",
        "                # Total correct predictions\r\n",
        "                if torch.cuda.is_available():\r\n",
        "                    correct += (predicted.cpu() == labels.cpu()).sum() \r\n",
        "                else:\r\n",
        "                    correct += (predicted == labels).sum()\r\n",
        "\r\n",
        "            accuracy = 100 * correct.item() / total\r\n",
        "\r\n",
        "            # Print Loss\r\n",
        "            iteration_loss.append(loss.item())\r\n",
        "            print('Iteration: {}. Loss: {}. Accuracy: {}'.format(iter, loss.item(), round(accuracy, 2)))"
      ],
      "execution_count": null,
      "outputs": [
        {
          "output_type": "stream",
          "text": [
            "Iteration: 500. Loss: 0.6974784731864929. Accuracy: 52.48\n",
            "Iteration: 1000. Loss: 0.6825542449951172. Accuracy: 51.74\n",
            "Iteration: 1500. Loss: 0.7036118507385254. Accuracy: 51.09\n",
            "Iteration: 2000. Loss: 0.7018072605133057. Accuracy: 50.73\n",
            "Iteration: 2500. Loss: 0.6974782943725586. Accuracy: 50.37\n",
            "Iteration: 3000. Loss: 0.692642092704773. Accuracy: 49.4\n",
            "Iteration: 3500. Loss: 0.6929709911346436. Accuracy: 49.43\n",
            "Iteration: 4000. Loss: 0.6840822100639343. Accuracy: 50.02\n"
          ],
          "name": "stdout"
        }
      ]
    },
    {
      "cell_type": "markdown",
      "metadata": {
        "id": "iSiMMiXIAob4"
      },
      "source": [
        "**Loss show**"
      ]
    },
    {
      "cell_type": "code",
      "metadata": {
        "colab": {
          "base_uri": "https://localhost:8080/",
          "height": 296
        },
        "id": "9ttfwFcIAob4",
        "outputId": "c2201cc5-64a3-4765-b482-cb4406c3e959"
      },
      "source": [
        "import matplotlib\r\n",
        "import matplotlib.pyplot as plt\r\n",
        "\r\n",
        "print (iteration_loss)\r\n",
        "plt.plot(iteration_loss)\r\n",
        "plt.ylabel('Cross Entropy Loss')\r\n",
        "plt.xlabel('Iteration (in every 500)')\r\n",
        "plt.show()"
      ],
      "execution_count": null,
      "outputs": [
        {
          "output_type": "stream",
          "text": [
            "[0.6974784731864929, 0.6825542449951172, 0.7036118507385254, 0.7018072605133057, 0.6974782943725586, 0.692642092704773, 0.6929709911346436, 0.6840822100639343]\n"
          ],
          "name": "stdout"
        },
        {
          "output_type": "display_data",
          "data": {
            "image/png": "[encoded data removed]",
            "text/plain": [
              "<Figure size 432x288 with 1 Axes>"
            ]
          },
          "metadata": {
            "tags": [],
            "needs_background": "light"
          }
        }
      ]
    },
    {
      "cell_type": "markdown",
      "metadata": {
        "id": "sAdwlpxqAutv"
      },
      "source": [
        "#**Experiment 3:**\r\n",
        "* **Optimizer =SGD**\r\n",
        "* **Learning rate =0.0010**\r\n"
      ]
    },
    {
      "cell_type": "markdown",
      "metadata": {
        "id": "WSbolJOBAutw"
      },
      "source": [
        "**Hyperparameters**"
      ]
    },
    {
      "cell_type": "code",
      "metadata": {
        "id": "o0OddHuqAutw"
      },
      "source": [
        "#HYPERPERAMETERS\r\n",
        "batch_size = 256\r\n",
        "num_iters = 4000\r\n",
        "input_dim = 28*28 # num_features = 784\r\n",
        "output_dim = 2\r\n",
        "\r\n",
        "learning_rate = 0.0010\r\n",
        "\r\n",
        "# Device\r\n",
        "device = torch.device(\"cuda:0\" if torch.cuda.is_available() else \"cpu\")"
      ],
      "execution_count": null,
      "outputs": []
    },
    {
      "cell_type": "markdown",
      "metadata": {
        "id": "9Ivk0r1XAutx"
      },
      "source": [
        "**MAKING DATASET ITERABLE**"
      ]
    },
    {
      "cell_type": "code",
      "metadata": {
        "id": "EImogF8DAutx"
      },
      "source": [
        "'''\r\n",
        "MAKING DATASET ITERABLE\r\n",
        "'''\r\n",
        "num_epochs = num_iters / (len(train_dataset) / batch_size)\r\n",
        "num_epochs = int(num_epochs)\r\n",
        "\r\n",
        "train_loader = torch.utils.data.DataLoader(dataset=train_dataset, \r\n",
        "                                           batch_size=batch_size, \r\n",
        "                                           shuffle=True)  \r\n",
        "\r\n",
        "test_loader = torch.utils.data.DataLoader(dataset=test_dataset, \r\n",
        "                                          batch_size=batch_size, \r\n",
        "                                          shuffle=False) "
      ],
      "execution_count": null,
      "outputs": []
    },
    {
      "cell_type": "markdown",
      "metadata": {
        "id": "P1sHoFYEAutx"
      },
      "source": [
        "**Logistic Regression Model**"
      ]
    },
    {
      "cell_type": "code",
      "metadata": {
        "id": "uil1d0OZAutx"
      },
      "source": [
        "class LogisticRegressionModel(nn.Module):\r\n",
        "    def __init__(self, input_size, num_classes):\r\n",
        "        super().__init__()\r\n",
        "        self.linear = nn.Linear(input_size, num_classes)\r\n",
        "\r\n",
        "    def forward(self, x):\r\n",
        "        logits  = self.linear(x)\r\n",
        "        probas = F.softmax(logits, dim=1)\r\n",
        "        return logits, probas"
      ],
      "execution_count": null,
      "outputs": []
    },
    {
      "cell_type": "markdown",
      "metadata": {
        "id": "pQk5N5QVAuty"
      },
      "source": [
        "**INSTANTIATE MODEL CLASS**"
      ]
    },
    {
      "cell_type": "code",
      "metadata": {
        "colab": {
          "base_uri": "https://localhost:8080/"
        },
        "id": "UnKasIZ2Auty",
        "outputId": "14d59915-0d42-4079-b822-3458d2fc9299"
      },
      "source": [
        "'''\r\n",
        "INSTANTIATE MODEL CLASS\r\n",
        "'''\r\n",
        "model = LogisticRegressionModel(input_size=input_dim,\r\n",
        "                                num_classes=output_dim)\r\n",
        "# To enable GPU\r\n",
        "model.to(device)"
      ],
      "execution_count": null,
      "outputs": [
        {
          "output_type": "execute_result",
          "data": {
            "text/plain": [
              "LogisticRegressionModel(\n",
              "  (linear): Linear(in_features=784, out_features=2, bias=True)\n",
              ")"
            ]
          },
          "metadata": {
            "tags": []
          },
          "execution_count": 25
        }
      ]
    },
    {
      "cell_type": "markdown",
      "metadata": {
        "id": "RHAkeu2SAuty"
      },
      "source": [
        "**Optimizer setup**"
      ]
    },
    {
      "cell_type": "code",
      "metadata": {
        "id": "WB6fhw8JAuty"
      },
      "source": [
        "# INSTANTIATE OPTIMIZER CLASS\r\n",
        "optimizer = torch.optim.SGD(model.parameters(), lr=learning_rate)\r\n"
      ],
      "execution_count": null,
      "outputs": []
    },
    {
      "cell_type": "markdown",
      "metadata": {
        "id": "M66Mn4ZtAutz"
      },
      "source": [
        "**Function TRAIN THE MODEL**"
      ]
    },
    {
      "cell_type": "code",
      "metadata": {
        "colab": {
          "base_uri": "https://localhost:8080/"
        },
        "id": "CCpzGa9LAutz",
        "outputId": "fc13c735-1f2a-471c-efd7-bb6a4b8a2209"
      },
      "source": [
        "'''\r\n",
        "TRAIN THE MODEL\r\n",
        "'''\r\n",
        "iteration_loss = []\r\n",
        "iter = 0\r\n",
        "for epoch in range(num_epochs):\r\n",
        "    for i, (images, labels) in enumerate(train_loader):\r\n",
        "\r\n",
        "        \r\n",
        "        images = images.view(-1, 28*28).to(device)\r\n",
        "        labels = labels.to(device)\r\n",
        "\r\n",
        "        # Clear gradients w.r.t. parameters\r\n",
        "        optimizer.zero_grad()\r\n",
        "\r\n",
        "        # Forward pass to get output/logits\r\n",
        "        logits, probas = model(images.float()) \r\n",
        "\r\n",
        "        # Calculate Loss: PyTorch implementation of CrossEntropyLoss works with logits, not probabilities\r\n",
        "        loss = F.cross_entropy(logits, labels)\r\n",
        "\r\n",
        "        # Getting gradients w.r.t. parameters\r\n",
        "        loss.backward()\r\n",
        "\r\n",
        "        # Updating parameters\r\n",
        "        optimizer.step()\r\n",
        "\r\n",
        "        iter += 1\r\n",
        "\r\n",
        "        if iter % 500 == 0:\r\n",
        "            # Calculate Accuracy         \r\n",
        "            correct = 0\r\n",
        "            total = 0\r\n",
        "            # Iterate through test dataset\r\n",
        "            for images, labels in test_loader:\r\n",
        "               \r\n",
        "                images = images.view(-1, 28*28).to(device)\r\n",
        "\r\n",
        "                # Forward pass only to get logits/output\r\n",
        "                logits, probas = model(images.float())\r\n",
        "\r\n",
        "                # Get predictions from the maximum value\r\n",
        "                _, predicted = torch.max(probas, 1)\r\n",
        "\r\n",
        "                # Total number of labels\r\n",
        "                total += labels.size(0)\r\n",
        "\r\n",
        "\r\n",
        "                # Total correct predictions\r\n",
        "                if torch.cuda.is_available():\r\n",
        "                    correct += (predicted.cpu() == labels.cpu()).sum() \r\n",
        "                else:\r\n",
        "                    correct += (predicted == labels).sum()\r\n",
        "\r\n",
        "            accuracy = 100 * correct.item() / total\r\n",
        "\r\n",
        "            # Print Loss\r\n",
        "            iteration_loss.append(loss.item())\r\n",
        "            print('Iteration: {}. Loss: {}. Accuracy: {}'.format(iter, loss.item(), round(accuracy, 2)))"
      ],
      "execution_count": null,
      "outputs": [
        {
          "output_type": "stream",
          "text": [
            "Iteration: 500. Loss: 0.6841294765472412. Accuracy: 50.92\n",
            "Iteration: 1000. Loss: 0.6837232112884521. Accuracy: 49.72\n",
            "Iteration: 1500. Loss: 0.6935368180274963. Accuracy: 49.59\n",
            "Iteration: 2000. Loss: 0.6817538738250732. Accuracy: 50.11\n",
            "Iteration: 2500. Loss: 0.6724648475646973. Accuracy: 49.43\n",
            "Iteration: 3000. Loss: 0.6770821213722229. Accuracy: 50.05\n",
            "Iteration: 3500. Loss: 0.6774747371673584. Accuracy: 50.41\n",
            "Iteration: 4000. Loss: 0.676094114780426. Accuracy: 49.92\n"
          ],
          "name": "stdout"
        }
      ]
    },
    {
      "cell_type": "markdown",
      "metadata": {
        "id": "oe_Oo7bYAutz"
      },
      "source": [
        "**Loss show**"
      ]
    },
    {
      "cell_type": "code",
      "metadata": {
        "colab": {
          "base_uri": "https://localhost:8080/",
          "height": 296
        },
        "id": "YFvoJcv3Autz",
        "outputId": "32bdec89-3f4d-4756-dc6d-187bbf53c1fb"
      },
      "source": [
        "import matplotlib\r\n",
        "import matplotlib.pyplot as plt\r\n",
        "\r\n",
        "print (iteration_loss)\r\n",
        "plt.plot(iteration_loss)\r\n",
        "plt.ylabel('Cross Entropy Loss')\r\n",
        "plt.xlabel('Iteration (in every 500)')\r\n",
        "plt.show()"
      ],
      "execution_count": null,
      "outputs": [
        {
          "output_type": "stream",
          "text": [
            "[0.6841294765472412, 0.6837232112884521, 0.6935368180274963, 0.6817538738250732, 0.6724648475646973, 0.6770821213722229, 0.6774747371673584, 0.676094114780426]\n"
          ],
          "name": "stdout"
        },
        {
          "output_type": "display_data",
          "data": {
            "image/png": "[encoded data removed]",
            "text/plain": [
              "<Figure size 432x288 with 1 Axes>"
            ]
          },
          "metadata": {
            "tags": [],
            "needs_background": "light"
          }
        }
      ]
    },
    {
      "cell_type": "markdown",
      "metadata": {
        "id": "D4JkSE10A1jb"
      },
      "source": [
        "#**Experiment 4:**\r\n",
        "* **Optimizer =Adam**\r\n",
        "* **Learning rate =0.0001**\r\n"
      ]
    },
    {
      "cell_type": "markdown",
      "metadata": {
        "id": "JwfukhOOA1jc"
      },
      "source": [
        "**Hyperparameters**"
      ]
    },
    {
      "cell_type": "code",
      "metadata": {
        "id": "KgSSwTa8A1jc"
      },
      "source": [
        "#HYPERPERAMETERS\r\n",
        "batch_size = 256\r\n",
        "num_iters = 4000\r\n",
        "input_dim = 28*28 # num_features = 784\r\n",
        "output_dim = 2\r\n",
        "\r\n",
        "learning_rate = 0.0001\r\n",
        "\r\n",
        "# Device\r\n",
        "device = torch.device(\"cuda:0\" if torch.cuda.is_available() else \"cpu\")"
      ],
      "execution_count": null,
      "outputs": []
    },
    {
      "cell_type": "markdown",
      "metadata": {
        "id": "K2WY9qZPA1jc"
      },
      "source": [
        "**MAKING DATASET ITERABLE**"
      ]
    },
    {
      "cell_type": "code",
      "metadata": {
        "id": "F6qCWQwgA1jd"
      },
      "source": [
        "'''\r\n",
        "MAKING DATASET ITERABLE\r\n",
        "'''\r\n",
        "num_epochs = num_iters / (len(train_dataset) / batch_size)\r\n",
        "num_epochs = int(num_epochs)\r\n",
        "\r\n",
        "train_loader = torch.utils.data.DataLoader(dataset=train_dataset, \r\n",
        "                                           batch_size=batch_size, \r\n",
        "                                           shuffle=True)  \r\n",
        "\r\n",
        "test_loader = torch.utils.data.DataLoader(dataset=test_dataset, \r\n",
        "                                          batch_size=batch_size, \r\n",
        "                                          shuffle=False) "
      ],
      "execution_count": null,
      "outputs": []
    },
    {
      "cell_type": "markdown",
      "metadata": {
        "id": "a59vuaEWA1jd"
      },
      "source": [
        "**Logistic Regression Model**"
      ]
    },
    {
      "cell_type": "code",
      "metadata": {
        "id": "xqofIxFPA1jd"
      },
      "source": [
        "class LogisticRegressionModel(nn.Module):\r\n",
        "    def __init__(self, input_size, num_classes):\r\n",
        "        super().__init__()\r\n",
        "        self.linear = nn.Linear(input_size, num_classes)\r\n",
        "\r\n",
        "    def forward(self, x):\r\n",
        "        logits  = self.linear(x)\r\n",
        "        probas = F.softmax(logits, dim=1)\r\n",
        "        return logits, probas"
      ],
      "execution_count": null,
      "outputs": []
    },
    {
      "cell_type": "markdown",
      "metadata": {
        "id": "hlTUSPeQA1je"
      },
      "source": [
        "**INSTANTIATE MODEL CLASS**"
      ]
    },
    {
      "cell_type": "code",
      "metadata": {
        "colab": {
          "base_uri": "https://localhost:8080/"
        },
        "id": "iGzTtcxUA1je",
        "outputId": "16c9c197-3460-46e0-98a0-da6fae1bdf46"
      },
      "source": [
        "'''\r\n",
        "INSTANTIATE MODEL CLASS\r\n",
        "'''\r\n",
        "model = LogisticRegressionModel(input_size=input_dim,\r\n",
        "                                num_classes=output_dim)\r\n",
        "# To enable GPU\r\n",
        "model.to(device)"
      ],
      "execution_count": null,
      "outputs": [
        {
          "output_type": "execute_result",
          "data": {
            "text/plain": [
              "LogisticRegressionModel(\n",
              "  (linear): Linear(in_features=784, out_features=2, bias=True)\n",
              ")"
            ]
          },
          "metadata": {
            "tags": []
          },
          "execution_count": 32
        }
      ]
    },
    {
      "cell_type": "markdown",
      "metadata": {
        "id": "XswYK3okA1je"
      },
      "source": [
        "**Optimizer setup**"
      ]
    },
    {
      "cell_type": "code",
      "metadata": {
        "id": "0LUT1ZE5A1jf"
      },
      "source": [
        "# INSTANTIATE OPTIMIZER CLASS\r\n",
        "optimizer = torch.optim.Adam(model.parameters(), lr=learning_rate)\r\n"
      ],
      "execution_count": null,
      "outputs": []
    },
    {
      "cell_type": "markdown",
      "metadata": {
        "id": "dwXQ282MA1jf"
      },
      "source": [
        "**Function TRAIN THE MODEL**"
      ]
    },
    {
      "cell_type": "code",
      "metadata": {
        "colab": {
          "base_uri": "https://localhost:8080/"
        },
        "id": "IVzzmPfsA1jf",
        "outputId": "5fe6f9e5-1cdd-4a61-bd6f-e392e1234816"
      },
      "source": [
        "'''\r\n",
        "TRAIN THE MODEL\r\n",
        "'''\r\n",
        "iteration_loss = []\r\n",
        "iter = 0\r\n",
        "for epoch in range(num_epochs):\r\n",
        "    for i, (images, labels) in enumerate(train_loader):\r\n",
        "\r\n",
        "        \r\n",
        "        images = images.view(-1, 28*28).to(device)\r\n",
        "        labels = labels.to(device)\r\n",
        "\r\n",
        "        # Clear gradients w.r.t. parameters\r\n",
        "        optimizer.zero_grad()\r\n",
        "\r\n",
        "        # Forward pass to get output/logits\r\n",
        "        logits, probas = model(images.float()) \r\n",
        "\r\n",
        "        # Calculate Loss: PyTorch implementation of CrossEntropyLoss works with logits, not probabilities\r\n",
        "        loss = F.cross_entropy(logits, labels)\r\n",
        "\r\n",
        "        # Getting gradients w.r.t. parameters\r\n",
        "        loss.backward()\r\n",
        "\r\n",
        "        # Updating parameters\r\n",
        "        optimizer.step()\r\n",
        "\r\n",
        "        iter += 1\r\n",
        "\r\n",
        "        if iter % 500 == 0:\r\n",
        "            # Calculate Accuracy         \r\n",
        "            correct = 0\r\n",
        "            total = 0\r\n",
        "            # Iterate through test dataset\r\n",
        "            for images, labels in test_loader:\r\n",
        "               \r\n",
        "                images = images.view(-1, 28*28).to(device)\r\n",
        "\r\n",
        "                # Forward pass only to get logits/output\r\n",
        "                logits, probas = model(images.float())\r\n",
        "\r\n",
        "                # Get predictions from the maximum value\r\n",
        "                _, predicted = torch.max(probas, 1)\r\n",
        "\r\n",
        "                # Total number of labels\r\n",
        "                total += labels.size(0)\r\n",
        "\r\n",
        "\r\n",
        "                # Total correct predictions\r\n",
        "                if torch.cuda.is_available():\r\n",
        "                    correct += (predicted.cpu() == labels.cpu()).sum() \r\n",
        "                else:\r\n",
        "                    correct += (predicted == labels).sum()\r\n",
        "\r\n",
        "            accuracy = 100 * correct.item() / total\r\n",
        "\r\n",
        "            # Print Loss\r\n",
        "            iteration_loss.append(loss.item())\r\n",
        "            print('Iteration: {}. Loss: {}. Accuracy: {}'.format(iter, loss.item(), round(accuracy, 2)))"
      ],
      "execution_count": null,
      "outputs": [
        {
          "output_type": "stream",
          "text": [
            "Iteration: 500. Loss: 0.6848145127296448. Accuracy: 51.15\n",
            "Iteration: 1000. Loss: 0.6747705936431885. Accuracy: 50.15\n",
            "Iteration: 1500. Loss: 0.6767639517784119. Accuracy: 50.15\n",
            "Iteration: 2000. Loss: 0.6497737169265747. Accuracy: 50.79\n",
            "Iteration: 2500. Loss: 0.6474394202232361. Accuracy: 50.34\n",
            "Iteration: 3000. Loss: 0.6546799540519714. Accuracy: 50.79\n",
            "Iteration: 3500. Loss: 0.6469826102256775. Accuracy: 50.08\n",
            "Iteration: 4000. Loss: 0.6632315516471863. Accuracy: 51.05\n"
          ],
          "name": "stdout"
        }
      ]
    },
    {
      "cell_type": "markdown",
      "metadata": {
        "id": "9FigNcBiA1jg"
      },
      "source": [
        "**Loss show**"
      ]
    },
    {
      "cell_type": "code",
      "metadata": {
        "colab": {
          "base_uri": "https://localhost:8080/",
          "height": 296
        },
        "id": "uFb8JJagA1ji",
        "outputId": "d0d426dc-1905-49f5-a5a5-b235c552a8af"
      },
      "source": [
        "import matplotlib\r\n",
        "import matplotlib.pyplot as plt\r\n",
        "\r\n",
        "print (iteration_loss)\r\n",
        "plt.plot(iteration_loss)\r\n",
        "plt.ylabel('Cross Entropy Loss')\r\n",
        "plt.xlabel('Iteration (in every 500)')\r\n",
        "plt.show()"
      ],
      "execution_count": null,
      "outputs": [
        {
          "output_type": "stream",
          "text": [
            "[0.6848145127296448, 0.6747705936431885, 0.6767639517784119, 0.6497737169265747, 0.6474394202232361, 0.6546799540519714, 0.6469826102256775, 0.6632315516471863]\n"
          ],
          "name": "stdout"
        },
        {
          "output_type": "display_data",
          "data": {
            "image/png": "[encoded data removed]",
            "text/plain": [
              "<Figure size 432x288 with 1 Axes>"
            ]
          },
          "metadata": {
            "tags": [],
            "needs_background": "light"
          }
        }
      ]
    },
    {
      "cell_type": "markdown",
      "metadata": {
        "id": "SGSvLewhA-q_"
      },
      "source": [
        "#**Experiment 5:**\r\n",
        "* **Optimizer =Adam**\r\n",
        "* **Learning rate =0.02**\r\n"
      ]
    },
    {
      "cell_type": "markdown",
      "metadata": {
        "id": "Dt0mZmrNA-rC"
      },
      "source": [
        "**Hyperparameters**"
      ]
    },
    {
      "cell_type": "code",
      "metadata": {
        "id": "Qaaol6TbA-rD"
      },
      "source": [
        "#HYPERPERAMETERS\r\n",
        "batch_size = 256\r\n",
        "num_iters = 4000\r\n",
        "input_dim = 28*28 # num_features = 784\r\n",
        "output_dim = 2\r\n",
        "\r\n",
        "learning_rate = 0.02\r\n",
        "\r\n",
        "# Device\r\n",
        "device = torch.device(\"cuda:0\" if torch.cuda.is_available() else \"cpu\")"
      ],
      "execution_count": null,
      "outputs": []
    },
    {
      "cell_type": "markdown",
      "metadata": {
        "id": "hSreTFqmA-rE"
      },
      "source": [
        "**MAKING DATASET ITERABLE**"
      ]
    },
    {
      "cell_type": "code",
      "metadata": {
        "id": "bmJKch4hA-rE"
      },
      "source": [
        "'''\r\n",
        "MAKING DATASET ITERABLE\r\n",
        "'''\r\n",
        "num_epochs = num_iters / (len(train_dataset) / batch_size)\r\n",
        "num_epochs = int(num_epochs)\r\n",
        "\r\n",
        "train_loader = torch.utils.data.DataLoader(dataset=train_dataset, \r\n",
        "                                           batch_size=batch_size, \r\n",
        "                                           shuffle=True)  \r\n",
        "\r\n",
        "test_loader = torch.utils.data.DataLoader(dataset=test_dataset, \r\n",
        "                                          batch_size=batch_size, \r\n",
        "                                          shuffle=False) "
      ],
      "execution_count": null,
      "outputs": []
    },
    {
      "cell_type": "markdown",
      "metadata": {
        "id": "UpOwdlAdA-rE"
      },
      "source": [
        "**Logistic Regression Model**"
      ]
    },
    {
      "cell_type": "code",
      "metadata": {
        "id": "7M-RCdRIA-rF"
      },
      "source": [
        "class LogisticRegressionModel(nn.Module):\r\n",
        "    def __init__(self, input_size, num_classes):\r\n",
        "        super().__init__()\r\n",
        "        self.linear = nn.Linear(input_size, num_classes)\r\n",
        "\r\n",
        "    def forward(self, x):\r\n",
        "        logits  = self.linear(x)\r\n",
        "        probas = F.softmax(logits, dim=1)\r\n",
        "        return logits, probas"
      ],
      "execution_count": null,
      "outputs": []
    },
    {
      "cell_type": "markdown",
      "metadata": {
        "id": "x4aMcONRA-rF"
      },
      "source": [
        "**INSTANTIATE MODEL CLASS**"
      ]
    },
    {
      "cell_type": "code",
      "metadata": {
        "colab": {
          "base_uri": "https://localhost:8080/"
        },
        "id": "e47MBpTjA-rF",
        "outputId": "43e2158a-2a75-49b1-e3a3-5cf83186d624"
      },
      "source": [
        "'''\r\n",
        "INSTANTIATE MODEL CLASS\r\n",
        "'''\r\n",
        "model = LogisticRegressionModel(input_size=input_dim,\r\n",
        "                                num_classes=output_dim)\r\n",
        "# To enable GPU\r\n",
        "model.to(device)"
      ],
      "execution_count": null,
      "outputs": [
        {
          "output_type": "execute_result",
          "data": {
            "text/plain": [
              "LogisticRegressionModel(\n",
              "  (linear): Linear(in_features=784, out_features=2, bias=True)\n",
              ")"
            ]
          },
          "metadata": {
            "tags": []
          },
          "execution_count": 39
        }
      ]
    },
    {
      "cell_type": "markdown",
      "metadata": {
        "id": "N9iVV3QDA-rG"
      },
      "source": [
        "**Optimizer setup**"
      ]
    },
    {
      "cell_type": "code",
      "metadata": {
        "id": "eVHU5EoYA-rH"
      },
      "source": [
        "# INSTANTIATE OPTIMIZER CLASS\r\n",
        "optimizer = torch.optim.Adam(model.parameters(), lr=learning_rate)\r\n"
      ],
      "execution_count": null,
      "outputs": []
    },
    {
      "cell_type": "markdown",
      "metadata": {
        "id": "5tfNP_sMA-rH"
      },
      "source": [
        "**Function TRAIN THE MODEL**"
      ]
    },
    {
      "cell_type": "code",
      "metadata": {
        "colab": {
          "base_uri": "https://localhost:8080/"
        },
        "id": "MrMYPuHNA-rH",
        "outputId": "4a8ec726-b17e-4ef3-d95a-128532d3411b"
      },
      "source": [
        "'''\r\n",
        "TRAIN THE MODEL\r\n",
        "'''\r\n",
        "iteration_loss = []\r\n",
        "iter = 0\r\n",
        "for epoch in range(num_epochs):\r\n",
        "    for i, (images, labels) in enumerate(train_loader):\r\n",
        "\r\n",
        "        \r\n",
        "        images = images.view(-1, 28*28).to(device)\r\n",
        "        labels = labels.to(device)\r\n",
        "\r\n",
        "        # Clear gradients w.r.t. parameters\r\n",
        "        optimizer.zero_grad()\r\n",
        "\r\n",
        "        # Forward pass to get output/logits\r\n",
        "        logits, probas = model(images.float()) \r\n",
        "\r\n",
        "        # Calculate Loss: PyTorch implementation of CrossEntropyLoss works with logits, not probabilities\r\n",
        "        loss = F.cross_entropy(logits, labels)\r\n",
        "\r\n",
        "        # Getting gradients w.r.t. parameters\r\n",
        "        loss.backward()\r\n",
        "\r\n",
        "        # Updating parameters\r\n",
        "        optimizer.step()\r\n",
        "\r\n",
        "        iter += 1\r\n",
        "\r\n",
        "        if iter % 500 == 0:\r\n",
        "            # Calculate Accuracy         \r\n",
        "            correct = 0\r\n",
        "            total = 0\r\n",
        "            # Iterate through test dataset\r\n",
        "            for images, labels in test_loader:\r\n",
        "               \r\n",
        "                images = images.view(-1, 28*28).to(device)\r\n",
        "\r\n",
        "                # Forward pass only to get logits/output\r\n",
        "                logits, probas = model(images.float())\r\n",
        "\r\n",
        "                # Get predictions from the maximum value\r\n",
        "                _, predicted = torch.max(probas, 1)\r\n",
        "\r\n",
        "                # Total number of labels\r\n",
        "                total += labels.size(0)\r\n",
        "\r\n",
        "\r\n",
        "                # Total correct predictions\r\n",
        "                if torch.cuda.is_available():\r\n",
        "                    correct += (predicted.cpu() == labels.cpu()).sum() \r\n",
        "                else:\r\n",
        "                    correct += (predicted == labels).sum()\r\n",
        "\r\n",
        "            accuracy = 100 * correct.item() / total\r\n",
        "\r\n",
        "            # Print Loss\r\n",
        "            iteration_loss.append(loss.item())\r\n",
        "            print('Iteration: {}. Loss: {}. Accuracy: {}'.format(iter, loss.item(), round(accuracy, 2)))"
      ],
      "execution_count": null,
      "outputs": [
        {
          "output_type": "stream",
          "text": [
            "Iteration: 500. Loss: 0.7139192819595337. Accuracy: 50.96\n",
            "Iteration: 1000. Loss: 0.6222255825996399. Accuracy: 49.85\n",
            "Iteration: 1500. Loss: 0.658583402633667. Accuracy: 51.22\n",
            "Iteration: 2000. Loss: 0.5988099575042725. Accuracy: 50.92\n",
            "Iteration: 2500. Loss: 0.6515288352966309. Accuracy: 51.83\n",
            "Iteration: 3000. Loss: 0.743750274181366. Accuracy: 48.85\n",
            "Iteration: 3500. Loss: 0.7010840773582458. Accuracy: 50.11\n",
            "Iteration: 4000. Loss: 0.6737802028656006. Accuracy: 50.86\n"
          ],
          "name": "stdout"
        }
      ]
    },
    {
      "cell_type": "markdown",
      "metadata": {
        "id": "gr44jrThA-rI"
      },
      "source": [
        "**Loss show**"
      ]
    },
    {
      "cell_type": "code",
      "metadata": {
        "colab": {
          "base_uri": "https://localhost:8080/",
          "height": 296
        },
        "id": "r93viw0aA-rI",
        "outputId": "f59e7fe3-ccb9-4330-ca46-db977d767a2a"
      },
      "source": [
        "import matplotlib\r\n",
        "import matplotlib.pyplot as plt\r\n",
        "\r\n",
        "print (iteration_loss)\r\n",
        "plt.plot(iteration_loss)\r\n",
        "plt.ylabel('Cross Entropy Loss')\r\n",
        "plt.xlabel('Iteration (in every 500)')\r\n",
        "plt.show()"
      ],
      "execution_count": null,
      "outputs": [
        {
          "output_type": "stream",
          "text": [
            "[0.7139192819595337, 0.6222255825996399, 0.658583402633667, 0.5988099575042725, 0.6515288352966309, 0.743750274181366, 0.7010840773582458, 0.6737802028656006]\n"
          ],
          "name": "stdout"
        },
        {
          "output_type": "display_data",
          "data": {
            "image/png": "[encoded data removed]",
            "text/plain": [
              "<Figure size 432x288 with 1 Axes>"
            ]
          },
          "metadata": {
            "tags": [],
            "needs_background": "light"
          }
        }
      ]
    },
    {
      "cell_type": "markdown",
      "metadata": {
        "id": "HBjeBHlHBFFi"
      },
      "source": [
        "#**Experiment 6:**\r\n",
        "* **Optimizer =Adam**\r\n",
        "* **Learning rate =0.05**\r\n"
      ]
    },
    {
      "cell_type": "markdown",
      "metadata": {
        "id": "XVJZHXkEBFFj"
      },
      "source": [
        "**Hyperparameters**"
      ]
    },
    {
      "cell_type": "code",
      "metadata": {
        "id": "iKu8e7WvBFFj"
      },
      "source": [
        "#HYPERPERAMETERS\r\n",
        "batch_size = 256\r\n",
        "num_iters = 4000\r\n",
        "input_dim = 28*28 # num_features = 784\r\n",
        "output_dim = 2\r\n",
        "\r\n",
        "learning_rate = 0.05\r\n",
        "\r\n",
        "# Device\r\n",
        "device = torch.device(\"cuda:0\" if torch.cuda.is_available() else \"cpu\")"
      ],
      "execution_count": null,
      "outputs": []
    },
    {
      "cell_type": "markdown",
      "metadata": {
        "id": "LI2TKn4qBFFj"
      },
      "source": [
        "**MAKING DATASET ITERABLE**"
      ]
    },
    {
      "cell_type": "code",
      "metadata": {
        "id": "EtkSIgu9BFFk"
      },
      "source": [
        "'''\r\n",
        "MAKING DATASET ITERABLE\r\n",
        "'''\r\n",
        "num_epochs = num_iters / (len(train_dataset) / batch_size)\r\n",
        "num_epochs = int(num_epochs)\r\n",
        "\r\n",
        "train_loader = torch.utils.data.DataLoader(dataset=train_dataset, \r\n",
        "                                           batch_size=batch_size, \r\n",
        "                                           shuffle=True)  \r\n",
        "\r\n",
        "test_loader = torch.utils.data.DataLoader(dataset=test_dataset, \r\n",
        "                                          batch_size=batch_size, \r\n",
        "                                          shuffle=False) "
      ],
      "execution_count": null,
      "outputs": []
    },
    {
      "cell_type": "markdown",
      "metadata": {
        "id": "LW0xZT3cBFFk"
      },
      "source": [
        "**Logistic Regression Model**"
      ]
    },
    {
      "cell_type": "code",
      "metadata": {
        "id": "-dh7ZfWsBFFk"
      },
      "source": [
        "class LogisticRegressionModel(nn.Module):\r\n",
        "    def __init__(self, input_size, num_classes):\r\n",
        "        super().__init__()\r\n",
        "        self.linear = nn.Linear(input_size, num_classes)\r\n",
        "\r\n",
        "    def forward(self, x):\r\n",
        "        logits  = self.linear(x)\r\n",
        "        probas = F.softmax(logits, dim=1)\r\n",
        "        return logits, probas"
      ],
      "execution_count": null,
      "outputs": []
    },
    {
      "cell_type": "markdown",
      "metadata": {
        "id": "0ZxMUgF6BFFk"
      },
      "source": [
        "**INSTANTIATE MODEL CLASS**"
      ]
    },
    {
      "cell_type": "code",
      "metadata": {
        "colab": {
          "base_uri": "https://localhost:8080/"
        },
        "id": "D0XabXpLBFFk",
        "outputId": "f710aa59-164d-4747-e26c-e590070dd77c"
      },
      "source": [
        "'''\r\n",
        "INSTANTIATE MODEL CLASS\r\n",
        "'''\r\n",
        "model = LogisticRegressionModel(input_size=input_dim,\r\n",
        "                                num_classes=output_dim)\r\n",
        "# To enable GPU\r\n",
        "model.to(device)"
      ],
      "execution_count": null,
      "outputs": [
        {
          "output_type": "execute_result",
          "data": {
            "text/plain": [
              "LogisticRegressionModel(\n",
              "  (linear): Linear(in_features=784, out_features=2, bias=True)\n",
              ")"
            ]
          },
          "metadata": {
            "tags": []
          },
          "execution_count": 46
        }
      ]
    },
    {
      "cell_type": "markdown",
      "metadata": {
        "id": "WrRR6MXCBFFl"
      },
      "source": [
        "**Optimizer setup**"
      ]
    },
    {
      "cell_type": "code",
      "metadata": {
        "id": "zRER3MpXBFFl"
      },
      "source": [
        "# INSTANTIATE OPTIMIZER CLASS\r\n",
        "optimizer = torch.optim.Adam(model.parameters(), lr=learning_rate)\r\n"
      ],
      "execution_count": null,
      "outputs": []
    },
    {
      "cell_type": "markdown",
      "metadata": {
        "id": "8cQnqJviBFFl"
      },
      "source": [
        "**Function TRAIN THE MODEL**"
      ]
    },
    {
      "cell_type": "code",
      "metadata": {
        "colab": {
          "base_uri": "https://localhost:8080/"
        },
        "id": "TpdKikSwBFFl",
        "outputId": "37d304c0-3bfc-4168-8185-4265da3b6c77"
      },
      "source": [
        "'''\r\n",
        "TRAIN THE MODEL\r\n",
        "'''\r\n",
        "iteration_loss = []\r\n",
        "iter = 0\r\n",
        "for epoch in range(num_epochs):\r\n",
        "    for i, (images, labels) in enumerate(train_loader):\r\n",
        "\r\n",
        "        \r\n",
        "        images = images.view(-1, 28*28).to(device)\r\n",
        "        labels = labels.to(device)\r\n",
        "\r\n",
        "        # Clear gradients w.r.t. parameters\r\n",
        "        optimizer.zero_grad()\r\n",
        "\r\n",
        "        # Forward pass to get output/logits\r\n",
        "        logits, probas = model(images.float()) \r\n",
        "\r\n",
        "        # Calculate Loss: PyTorch implementation of CrossEntropyLoss works with logits, not probabilities\r\n",
        "        loss = F.cross_entropy(logits, labels)\r\n",
        "\r\n",
        "        # Getting gradients w.r.t. parameters\r\n",
        "        loss.backward()\r\n",
        "\r\n",
        "        # Updating parameters\r\n",
        "        optimizer.step()\r\n",
        "\r\n",
        "        iter += 1\r\n",
        "\r\n",
        "        if iter % 500 == 0:\r\n",
        "            # Calculate Accuracy         \r\n",
        "            correct = 0\r\n",
        "            total = 0\r\n",
        "            # Iterate through test dataset\r\n",
        "            for images, labels in test_loader:\r\n",
        "               \r\n",
        "                images = images.view(-1, 28*28).to(device)\r\n",
        "\r\n",
        "                # Forward pass only to get logits/output\r\n",
        "                logits, probas = model(images.float())\r\n",
        "\r\n",
        "                # Get predictions from the maximum value\r\n",
        "                _, predicted = torch.max(probas, 1)\r\n",
        "\r\n",
        "                # Total number of labels\r\n",
        "                total += labels.size(0)\r\n",
        "\r\n",
        "\r\n",
        "                # Total correct predictions\r\n",
        "                if torch.cuda.is_available():\r\n",
        "                    correct += (predicted.cpu() == labels.cpu()).sum() \r\n",
        "                else:\r\n",
        "                    correct += (predicted == labels).sum()\r\n",
        "\r\n",
        "            accuracy = 100 * correct.item() / total\r\n",
        "\r\n",
        "            # Print Loss\r\n",
        "            iteration_loss.append(loss.item())\r\n",
        "            print('Iteration: {}. Loss: {}. Accuracy: {}'.format(iter, loss.item(), round(accuracy, 2)))"
      ],
      "execution_count": null,
      "outputs": [
        {
          "output_type": "stream",
          "text": [
            "Iteration: 500. Loss: 0.9300315380096436. Accuracy: 49.95\n",
            "Iteration: 1000. Loss: 1.0349936485290527. Accuracy: 52.48\n",
            "Iteration: 1500. Loss: 0.8274070620536804. Accuracy: 49.79\n",
            "Iteration: 2000. Loss: 0.707048773765564. Accuracy: 49.79\n",
            "Iteration: 2500. Loss: 0.8096100091934204. Accuracy: 52.25\n",
            "Iteration: 3000. Loss: 0.7424330711364746. Accuracy: 51.7\n",
            "Iteration: 3500. Loss: 0.698421061038971. Accuracy: 50.37\n",
            "Iteration: 4000. Loss: 0.7185676693916321. Accuracy: 48.3\n"
          ],
          "name": "stdout"
        }
      ]
    },
    {
      "cell_type": "markdown",
      "metadata": {
        "id": "ITnefhsnBFFm"
      },
      "source": [
        "**Loss show**"
      ]
    },
    {
      "cell_type": "code",
      "metadata": {
        "colab": {
          "base_uri": "https://localhost:8080/",
          "height": 299
        },
        "id": "wEt53SAEBFFm",
        "outputId": "687fc697-fe40-4462-8066-e1086caec258"
      },
      "source": [
        "import matplotlib\r\n",
        "import matplotlib.pyplot as plt\r\n",
        "\r\n",
        "print (iteration_loss)\r\n",
        "plt.plot(iteration_loss)\r\n",
        "plt.ylabel('Cross Entropy Loss')\r\n",
        "plt.xlabel('Iteration (in every 500)')\r\n",
        "plt.show()"
      ],
      "execution_count": null,
      "outputs": [
        {
          "output_type": "stream",
          "text": [
            "[0.9300315380096436, 1.0349936485290527, 0.8274070620536804, 0.707048773765564, 0.8096100091934204, 0.7424330711364746, 0.698421061038971, 0.7185676693916321]\n"
          ],
          "name": "stdout"
        },
        {
          "output_type": "display_data",
          "data": {
            "image/png": "[encoded data removed]",
            "text/plain": [
              "<Figure size 432x288 with 1 Axes>"
            ]
          },
          "metadata": {
            "tags": [],
            "needs_background": "light"
          }
        }
      ]
    },
    {
      "cell_type": "code",
      "metadata": {
        "id": "TIEtrCrLFuXL"
      },
      "source": [
        ""
      ],
      "execution_count": null,
      "outputs": []
    }
  ]
}